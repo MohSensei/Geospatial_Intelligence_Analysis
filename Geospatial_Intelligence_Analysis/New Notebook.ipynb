{
 "cells": [
  {
   "cell_type": "code",
   "execution_count": 1,
   "metadata": {},
   "outputs": [
    {
     "ename": "ExecuteError",
     "evalue": "Failed to execute. Parameters are not valid.\nERROR 000732: Input Features: Dataset roads.shp does not exist or is not supported\nFailed to execute (Buffer).\n",
     "output_type": "error",
     "traceback": [
      "\u001b[0;31m---------------------------------------------------------------------------\u001b[0m\n\u001b[0;31mExecuteError\u001b[0m                              Traceback (most recent call last)",
      "In  \u001b[0;34m[1]\u001b[0m:\nLine \u001b[0;34m15\u001b[0m:    arcpy.Buffer_analysis(in_features=input_roads,\u001b[37m\u001b[39;49;00m\n",
      "File \u001b[0;34mC:\\Program Files\\ArcGIS\\Pro\\Resources\\ArcPy\\arcpy\\analysis.py\u001b[0m, in \u001b[0;32mBuffer\u001b[0m:\nLine \u001b[0;34m1286\u001b[0m:  \u001b[34mraise\u001b[39;49;00m e\u001b[37m\u001b[39;49;00m\n",
      "File \u001b[0;34mC:\\Program Files\\ArcGIS\\Pro\\Resources\\ArcPy\\arcpy\\analysis.py\u001b[0m, in \u001b[0;32mBuffer\u001b[0m:\nLine \u001b[0;34m1283\u001b[0m:  retval = convertArcObjectToPythonObject(gp.Buffer_analysis(*gp_fixargs((in_features, out_feature_class, buffer_distance_or_field, line_side, line_end_type, dissolve_option, dissolve_field, method), \u001b[34mTrue\u001b[39;49;00m)))\u001b[37m\u001b[39;49;00m\n",
      "File \u001b[0;34mC:\\Program Files\\ArcGIS\\Pro\\Resources\\ArcPy\\arcpy\\geoprocessing\\_base.py\u001b[0m, in \u001b[0;32m<lambda>\u001b[0m:\nLine \u001b[0;34m512\u001b[0m:   \u001b[34mreturn\u001b[39;49;00m \u001b[34mlambda\u001b[39;49;00m *args: val(*gp_fixargs(args, \u001b[34mTrue\u001b[39;49;00m))\u001b[37m\u001b[39;49;00m\n",
      "\u001b[0;31mExecuteError\u001b[0m: Failed to execute. Parameters are not valid.\nERROR 000732: Input Features: Dataset roads.shp does not exist or is not supported\nFailed to execute (Buffer).\n\n\u001b[0;31m---------------------------------------------------------------------------\u001b[0m"
     ]
    }
   ],
   "source": [
    "import arcpy\n",
    "\n",
    "# Set environment settings\n",
    "arcpy.env.workspace = r\"C:\\Geospatial_Intelligence_Analysis\\data\\infrastructure\"\n",
    "arcpy.env.overwriteOutput = True\n",
    "\n",
    "# Define input and output variables\n",
    "input_roads = \"roads.shp\"\n",
    "output_buffer = \"roads_buffer_1km_script.shp\"\n",
    "\n",
    "# Set buffer distance\n",
    "buffer_distance = \"1 Kilometers\"\n",
    "\n",
    "# Run Buffer tool\n",
    "arcpy.Buffer_analysis(in_features=input_roads,\n",
    "                      out_feature_class=output_buffer,\n",
    "                      buffer_distance_or_field=buffer_distance,\n",
    "                      dissolve_option=\"ALL\")\n",
    "\n",
    "print(\"Buffer created successfully at 1 km around roads.\")\n"
   ]
  },
  {
   "cell_type": "code",
   "execution_count": 2,
   "metadata": {},
   "outputs": [
    {
     "ename": "ExecuteError",
     "evalue": "Failed to execute. Parameters are not valid.\nERROR 000732: Input Features: Dataset C:\\Documents\\Geospatial_Intelligence_Analysis\\data\\infrastructure\\tl_2022_42091_roads\\roads.shp does not exist or is not supported\nFailed to execute (Buffer).\n",
     "output_type": "error",
     "traceback": [
      "\u001b[0;31m---------------------------------------------------------------------------\u001b[0m\n\u001b[0;31mExecuteError\u001b[0m                              Traceback (most recent call last)",
      "In  \u001b[0;34m[2]\u001b[0m:\nLine \u001b[0;34m15\u001b[0m:    arcpy.Buffer_analysis(in_features=input_roads,\u001b[37m\u001b[39;49;00m\n",
      "File \u001b[0;34mC:\\Program Files\\ArcGIS\\Pro\\Resources\\ArcPy\\arcpy\\analysis.py\u001b[0m, in \u001b[0;32mBuffer\u001b[0m:\nLine \u001b[0;34m1286\u001b[0m:  \u001b[34mraise\u001b[39;49;00m e\u001b[37m\u001b[39;49;00m\n",
      "File \u001b[0;34mC:\\Program Files\\ArcGIS\\Pro\\Resources\\ArcPy\\arcpy\\analysis.py\u001b[0m, in \u001b[0;32mBuffer\u001b[0m:\nLine \u001b[0;34m1283\u001b[0m:  retval = convertArcObjectToPythonObject(gp.Buffer_analysis(*gp_fixargs((in_features, out_feature_class, buffer_distance_or_field, line_side, line_end_type, dissolve_option, dissolve_field, method), \u001b[34mTrue\u001b[39;49;00m)))\u001b[37m\u001b[39;49;00m\n",
      "File \u001b[0;34mC:\\Program Files\\ArcGIS\\Pro\\Resources\\ArcPy\\arcpy\\geoprocessing\\_base.py\u001b[0m, in \u001b[0;32m<lambda>\u001b[0m:\nLine \u001b[0;34m512\u001b[0m:   \u001b[34mreturn\u001b[39;49;00m \u001b[34mlambda\u001b[39;49;00m *args: val(*gp_fixargs(args, \u001b[34mTrue\u001b[39;49;00m))\u001b[37m\u001b[39;49;00m\n",
      "\u001b[0;31mExecuteError\u001b[0m: Failed to execute. Parameters are not valid.\nERROR 000732: Input Features: Dataset C:\\Documents\\Geospatial_Intelligence_Analysis\\data\\infrastructure\\tl_2022_42091_roads\\roads.shp does not exist or is not supported\nFailed to execute (Buffer).\n\n\u001b[0;31m---------------------------------------------------------------------------\u001b[0m"
     ]
    }
   ],
   "source": [
    "import arcpy\n",
    "\n",
    "# Set environment settings\n",
    "arcpy.env.workspace = r\"C:\\Documents\\Geospatial_Intelligence_Analysis\\data\\infrastructure\\tl_2022_42091_roads\"\n",
    "arcpy.env.overwriteOutput = True\n",
    "\n",
    "# Define input and output variables with full paths\n",
    "input_roads = r\"C:\\Documents\\Geospatial_Intelligence_Analysis\\data\\infrastructure\\tl_2022_42091_roads\\roads.shp\"\n",
    "output_buffer = r\"C:\\Documents\\Geospatial_Intelligence_Analysis\\data\\infrastructure\\tl_2022_42091_roads\\roads_buffer_1km_script.shp\"\n",
    "\n",
    "# Set buffer distance\n",
    "buffer_distance = \"1 Kilometers\"\n",
    "\n",
    "# Run Buffer tool\n",
    "arcpy.Buffer_analysis(in_features=input_roads,\n",
    "                      out_feature_class=output_buffer,\n",
    "                      buffer_distance_or_field=buffer_distance,\n",
    "                      dissolve_option=\"ALL\")\n",
    "\n",
    "print(\"Buffer created successfully at 1 km around roads.\")\n",
    "\n"
   ]
  },
  {
   "cell_type": "code",
   "execution_count": 3,
   "metadata": {},
   "outputs": [
    {
     "ename": "ExecuteError",
     "evalue": "Failed to execute. Parameters are not valid.\nERROR 000732: Input Features: Dataset C:\\Documents\\Geospatial_Intelligence_Analysis\\data\\infrastructure\\tl_2022_42091_roads\\roads.shp does not exist or is not supported\nFailed to execute (Buffer).\n",
     "output_type": "error",
     "traceback": [
      "\u001b[0;31m---------------------------------------------------------------------------\u001b[0m\n\u001b[0;31mExecuteError\u001b[0m                              Traceback (most recent call last)",
      "In  \u001b[0;34m[3]\u001b[0m:\nLine \u001b[0;34m14\u001b[0m:    arcpy.Buffer_analysis(in_features=input_roads,\u001b[37m\u001b[39;49;00m\n",
      "File \u001b[0;34mC:\\Program Files\\ArcGIS\\Pro\\Resources\\ArcPy\\arcpy\\analysis.py\u001b[0m, in \u001b[0;32mBuffer\u001b[0m:\nLine \u001b[0;34m1286\u001b[0m:  \u001b[34mraise\u001b[39;49;00m e\u001b[37m\u001b[39;49;00m\n",
      "File \u001b[0;34mC:\\Program Files\\ArcGIS\\Pro\\Resources\\ArcPy\\arcpy\\analysis.py\u001b[0m, in \u001b[0;32mBuffer\u001b[0m:\nLine \u001b[0;34m1283\u001b[0m:  retval = convertArcObjectToPythonObject(gp.Buffer_analysis(*gp_fixargs((in_features, out_feature_class, buffer_distance_or_field, line_side, line_end_type, dissolve_option, dissolve_field, method), \u001b[34mTrue\u001b[39;49;00m)))\u001b[37m\u001b[39;49;00m\n",
      "File \u001b[0;34mC:\\Program Files\\ArcGIS\\Pro\\Resources\\ArcPy\\arcpy\\geoprocessing\\_base.py\u001b[0m, in \u001b[0;32m<lambda>\u001b[0m:\nLine \u001b[0;34m512\u001b[0m:   \u001b[34mreturn\u001b[39;49;00m \u001b[34mlambda\u001b[39;49;00m *args: val(*gp_fixargs(args, \u001b[34mTrue\u001b[39;49;00m))\u001b[37m\u001b[39;49;00m\n",
      "\u001b[0;31mExecuteError\u001b[0m: Failed to execute. Parameters are not valid.\nERROR 000732: Input Features: Dataset C:\\Documents\\Geospatial_Intelligence_Analysis\\data\\infrastructure\\tl_2022_42091_roads\\roads.shp does not exist or is not supported\nFailed to execute (Buffer).\n\n\u001b[0;31m---------------------------------------------------------------------------\u001b[0m"
     ]
    }
   ],
   "source": [
    "import arcpy\n",
    "\n",
    "# Set overwrite output\n",
    "arcpy.env.overwriteOutput = True\n",
    "\n",
    "# Define input and output variables with full paths\n",
    "input_roads = r\"C:\\Documents\\Geospatial_Intelligence_Analysis\\data\\infrastructure\\tl_2022_42091_roads\\roads.shp\"\n",
    "output_buffer = r\"C:\\Documents\\Geospatial_Intelligence_Analysis\\data\\infrastructure\\tl_2022_42091_roads\\roads_buffer_1km_script.shp\"\n",
    "\n",
    "# Set buffer distance\n",
    "buffer_distance = \"1 Kilometers\"\n",
    "\n",
    "# Run Buffer tool\n",
    "arcpy.Buffer_analysis(in_features=input_roads,\n",
    "                      out_feature_class=output_buffer,\n",
    "                      buffer_distance_or_field=buffer_distance,\n",
    "                      dissolve_option=\"ALL\")\n",
    "\n",
    "print(\"Buffer created successfully at 1 km around roads.\")\n"
   ]
  },
  {
   "cell_type": "code",
   "execution_count": null,
   "metadata": {},
   "outputs": [],
   "source": []
  }
 ],
 "metadata": {
  "kernelspec": {
   "display_name": "ArcGISPro",
   "language": "Python",
   "name": "python3"
  },
  "language_info": {
   "file_extension": ".py",
   "name": "python",
   "version": "3"
  }
 },
 "nbformat": 4,
 "nbformat_minor": 2
}
